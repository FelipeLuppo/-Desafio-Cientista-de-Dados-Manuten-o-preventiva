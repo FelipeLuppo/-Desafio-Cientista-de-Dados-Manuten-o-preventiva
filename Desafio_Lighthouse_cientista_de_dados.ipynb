{
  "nbformat": 4,
  "nbformat_minor": 0,
  "metadata": {
    "colab": {
      "provenance": []
    },
    "kernelspec": {
      "name": "python3",
      "display_name": "Python 3"
    },
    "language_info": {
      "name": "python"
    }
  },
  "cells": [
    {
      "cell_type": "code",
      "execution_count": 176,
      "metadata": {
        "id": "sF8MKzjh7-na"
      },
      "outputs": [],
      "source": [
        "import pandas as pd\n",
        "import seaborn as sns\n",
        "import numpy as np\n",
        "import matplotlib.pyplot as plt\n",
        "from sklearn import preprocessing\n",
        "from imblearn.over_sampling import SMOTE"
      ]
    },
    {
      "cell_type": "markdown",
      "source": [
        "Import of CSV Files"
      ],
      "metadata": {
        "id": "F0Qvn7qw8m0X"
      }
    },
    {
      "cell_type": "code",
      "source": [
        "# Alterar o endereço aqui para o endereço dos arquivos no seu computador.\n",
        "train_dataset = pd.read_csv(\"/content/desafio_manutencao_preditiva_treino.csv\")\n",
        "test_dataset =  pd.read_csv(\"/content/desafio_manutencao_preditiva_teste.csv\")"
      ],
      "metadata": {
        "id": "-GGLnazu8qmv"
      },
      "execution_count": 177,
      "outputs": []
    },
    {
      "cell_type": "markdown",
      "source": [
        "# EDA\n",
        "\n"
      ],
      "metadata": {
        "id": "wHEs85KL9Qo-"
      }
    },
    {
      "cell_type": "code",
      "source": [
        "train_dataset.head()"
      ],
      "metadata": {
        "colab": {
          "base_uri": "https://localhost:8080/",
          "height": 206
        },
        "id": "tJ3k9aKENiyO",
        "outputId": "1e1dca9f-4137-4b09-c110-8946c58b2008"
      },
      "execution_count": 178,
      "outputs": [
        {
          "output_type": "execute_result",
          "data": {
            "text/plain": [
              "   udi product_id type  air_temperature_k  process_temperature_k  \\\n",
              "0    1     M14860    M              298.1                  308.6   \n",
              "1    2     L47181    L              298.2                  308.7   \n",
              "2    5     L47184    L              298.2                  308.7   \n",
              "3    6     M14865    M              298.1                  308.6   \n",
              "4    7     L47186    L              298.1                  308.6   \n",
              "\n",
              "   rotational_speed_rpm  torque_nm  tool_wear_min failure_type  \n",
              "0                  1551       42.8              0   No Failure  \n",
              "1                  1408       46.3              3   No Failure  \n",
              "2                  1408       40.0              9   No Failure  \n",
              "3                  1425       41.9             11   No Failure  \n",
              "4                  1558       42.4             14   No Failure  "
            ],
            "text/html": [
              "\n",
              "  <div id=\"df-c7ad0a31-c8ff-4312-b2eb-bda44d15f169\">\n",
              "    <div class=\"colab-df-container\">\n",
              "      <div>\n",
              "<style scoped>\n",
              "    .dataframe tbody tr th:only-of-type {\n",
              "        vertical-align: middle;\n",
              "    }\n",
              "\n",
              "    .dataframe tbody tr th {\n",
              "        vertical-align: top;\n",
              "    }\n",
              "\n",
              "    .dataframe thead th {\n",
              "        text-align: right;\n",
              "    }\n",
              "</style>\n",
              "<table border=\"1\" class=\"dataframe\">\n",
              "  <thead>\n",
              "    <tr style=\"text-align: right;\">\n",
              "      <th></th>\n",
              "      <th>udi</th>\n",
              "      <th>product_id</th>\n",
              "      <th>type</th>\n",
              "      <th>air_temperature_k</th>\n",
              "      <th>process_temperature_k</th>\n",
              "      <th>rotational_speed_rpm</th>\n",
              "      <th>torque_nm</th>\n",
              "      <th>tool_wear_min</th>\n",
              "      <th>failure_type</th>\n",
              "    </tr>\n",
              "  </thead>\n",
              "  <tbody>\n",
              "    <tr>\n",
              "      <th>0</th>\n",
              "      <td>1</td>\n",
              "      <td>M14860</td>\n",
              "      <td>M</td>\n",
              "      <td>298.1</td>\n",
              "      <td>308.6</td>\n",
              "      <td>1551</td>\n",
              "      <td>42.8</td>\n",
              "      <td>0</td>\n",
              "      <td>No Failure</td>\n",
              "    </tr>\n",
              "    <tr>\n",
              "      <th>1</th>\n",
              "      <td>2</td>\n",
              "      <td>L47181</td>\n",
              "      <td>L</td>\n",
              "      <td>298.2</td>\n",
              "      <td>308.7</td>\n",
              "      <td>1408</td>\n",
              "      <td>46.3</td>\n",
              "      <td>3</td>\n",
              "      <td>No Failure</td>\n",
              "    </tr>\n",
              "    <tr>\n",
              "      <th>2</th>\n",
              "      <td>5</td>\n",
              "      <td>L47184</td>\n",
              "      <td>L</td>\n",
              "      <td>298.2</td>\n",
              "      <td>308.7</td>\n",
              "      <td>1408</td>\n",
              "      <td>40.0</td>\n",
              "      <td>9</td>\n",
              "      <td>No Failure</td>\n",
              "    </tr>\n",
              "    <tr>\n",
              "      <th>3</th>\n",
              "      <td>6</td>\n",
              "      <td>M14865</td>\n",
              "      <td>M</td>\n",
              "      <td>298.1</td>\n",
              "      <td>308.6</td>\n",
              "      <td>1425</td>\n",
              "      <td>41.9</td>\n",
              "      <td>11</td>\n",
              "      <td>No Failure</td>\n",
              "    </tr>\n",
              "    <tr>\n",
              "      <th>4</th>\n",
              "      <td>7</td>\n",
              "      <td>L47186</td>\n",
              "      <td>L</td>\n",
              "      <td>298.1</td>\n",
              "      <td>308.6</td>\n",
              "      <td>1558</td>\n",
              "      <td>42.4</td>\n",
              "      <td>14</td>\n",
              "      <td>No Failure</td>\n",
              "    </tr>\n",
              "  </tbody>\n",
              "</table>\n",
              "</div>\n",
              "      <button class=\"colab-df-convert\" onclick=\"convertToInteractive('df-c7ad0a31-c8ff-4312-b2eb-bda44d15f169')\"\n",
              "              title=\"Convert this dataframe to an interactive table.\"\n",
              "              style=\"display:none;\">\n",
              "        \n",
              "  <svg xmlns=\"http://www.w3.org/2000/svg\" height=\"24px\"viewBox=\"0 0 24 24\"\n",
              "       width=\"24px\">\n",
              "    <path d=\"M0 0h24v24H0V0z\" fill=\"none\"/>\n",
              "    <path d=\"M18.56 5.44l.94 2.06.94-2.06 2.06-.94-2.06-.94-.94-2.06-.94 2.06-2.06.94zm-11 1L8.5 8.5l.94-2.06 2.06-.94-2.06-.94L8.5 2.5l-.94 2.06-2.06.94zm10 10l.94 2.06.94-2.06 2.06-.94-2.06-.94-.94-2.06-.94 2.06-2.06.94z\"/><path d=\"M17.41 7.96l-1.37-1.37c-.4-.4-.92-.59-1.43-.59-.52 0-1.04.2-1.43.59L10.3 9.45l-7.72 7.72c-.78.78-.78 2.05 0 2.83L4 21.41c.39.39.9.59 1.41.59.51 0 1.02-.2 1.41-.59l7.78-7.78 2.81-2.81c.8-.78.8-2.07 0-2.86zM5.41 20L4 18.59l7.72-7.72 1.47 1.35L5.41 20z\"/>\n",
              "  </svg>\n",
              "      </button>\n",
              "      \n",
              "  <style>\n",
              "    .colab-df-container {\n",
              "      display:flex;\n",
              "      flex-wrap:wrap;\n",
              "      gap: 12px;\n",
              "    }\n",
              "\n",
              "    .colab-df-convert {\n",
              "      background-color: #E8F0FE;\n",
              "      border: none;\n",
              "      border-radius: 50%;\n",
              "      cursor: pointer;\n",
              "      display: none;\n",
              "      fill: #1967D2;\n",
              "      height: 32px;\n",
              "      padding: 0 0 0 0;\n",
              "      width: 32px;\n",
              "    }\n",
              "\n",
              "    .colab-df-convert:hover {\n",
              "      background-color: #E2EBFA;\n",
              "      box-shadow: 0px 1px 2px rgba(60, 64, 67, 0.3), 0px 1px 3px 1px rgba(60, 64, 67, 0.15);\n",
              "      fill: #174EA6;\n",
              "    }\n",
              "\n",
              "    [theme=dark] .colab-df-convert {\n",
              "      background-color: #3B4455;\n",
              "      fill: #D2E3FC;\n",
              "    }\n",
              "\n",
              "    [theme=dark] .colab-df-convert:hover {\n",
              "      background-color: #434B5C;\n",
              "      box-shadow: 0px 1px 3px 1px rgba(0, 0, 0, 0.15);\n",
              "      filter: drop-shadow(0px 1px 2px rgba(0, 0, 0, 0.3));\n",
              "      fill: #FFFFFF;\n",
              "    }\n",
              "  </style>\n",
              "\n",
              "      <script>\n",
              "        const buttonEl =\n",
              "          document.querySelector('#df-c7ad0a31-c8ff-4312-b2eb-bda44d15f169 button.colab-df-convert');\n",
              "        buttonEl.style.display =\n",
              "          google.colab.kernel.accessAllowed ? 'block' : 'none';\n",
              "\n",
              "        async function convertToInteractive(key) {\n",
              "          const element = document.querySelector('#df-c7ad0a31-c8ff-4312-b2eb-bda44d15f169');\n",
              "          const dataTable =\n",
              "            await google.colab.kernel.invokeFunction('convertToInteractive',\n",
              "                                                     [key], {});\n",
              "          if (!dataTable) return;\n",
              "\n",
              "          const docLinkHtml = 'Like what you see? Visit the ' +\n",
              "            '<a target=\"_blank\" href=https://colab.research.google.com/notebooks/data_table.ipynb>data table notebook</a>'\n",
              "            + ' to learn more about interactive tables.';\n",
              "          element.innerHTML = '';\n",
              "          dataTable['output_type'] = 'display_data';\n",
              "          await google.colab.output.renderOutput(dataTable, element);\n",
              "          const docLink = document.createElement('div');\n",
              "          docLink.innerHTML = docLinkHtml;\n",
              "          element.appendChild(docLink);\n",
              "        }\n",
              "      </script>\n",
              "    </div>\n",
              "  </div>\n",
              "  "
            ]
          },
          "metadata": {},
          "execution_count": 178
        }
      ]
    },
    {
      "cell_type": "code",
      "source": [
        "# since the target is the failure_type, this will be a multiclass classification problem with\n",
        "train_dataset['failure_type'].unique()\n"
      ],
      "metadata": {
        "colab": {
          "base_uri": "https://localhost:8080/"
        },
        "id": "8gmLYpyHNoFz",
        "outputId": "9accaf28-8890-4bd0-90b4-f5a9cc93cd11"
      },
      "execution_count": 179,
      "outputs": [
        {
          "output_type": "execute_result",
          "data": {
            "text/plain": [
              "array(['No Failure', 'Power Failure', 'Tool Wear Failure',\n",
              "       'Overstrain Failure', 'Random Failures',\n",
              "       'Heat Dissipation Failure'], dtype=object)"
            ]
          },
          "metadata": {},
          "execution_count": 179
        }
      ]
    },
    {
      "cell_type": "code",
      "source": [
        "train_dataset.describe()\n",
        "\n",
        "# we can see that there's 3 categorical variables and 5(excluding ID) numerical variables"
      ],
      "metadata": {
        "colab": {
          "base_uri": "https://localhost:8080/",
          "height": 300
        },
        "id": "tMHmk_Z89TIx",
        "outputId": "fb778f15-d11e-48a0-f054-a0558306c80a"
      },
      "execution_count": 180,
      "outputs": [
        {
          "output_type": "execute_result",
          "data": {
            "text/plain": [
              "                udi  air_temperature_k  process_temperature_k  \\\n",
              "count   6667.000000        6667.000000            6667.000000   \n",
              "mean    4994.589921         299.992515             309.992620   \n",
              "std     2896.125718           1.994710               1.488101   \n",
              "min        1.000000         295.300000             305.700000   \n",
              "25%     2496.500000         298.300000             308.800000   \n",
              "50%     4983.000000         300.000000             310.000000   \n",
              "75%     7510.500000         301.500000             311.100000   \n",
              "max    10000.000000         304.500000             313.800000   \n",
              "\n",
              "       rotational_speed_rpm    torque_nm  tool_wear_min  \n",
              "count           6667.000000  6667.000000    6667.000000  \n",
              "mean            1537.419529    40.058512     108.098095  \n",
              "std              177.182908     9.950804      63.359915  \n",
              "min             1168.000000     3.800000       0.000000  \n",
              "25%             1422.500000    33.200000      54.000000  \n",
              "50%             1503.000000    40.200000     108.000000  \n",
              "75%             1612.000000    46.800000     162.000000  \n",
              "max             2886.000000    76.600000     251.000000  "
            ],
            "text/html": [
              "\n",
              "  <div id=\"df-00fb01ae-a6fb-4556-8563-14cbb8e9464d\">\n",
              "    <div class=\"colab-df-container\">\n",
              "      <div>\n",
              "<style scoped>\n",
              "    .dataframe tbody tr th:only-of-type {\n",
              "        vertical-align: middle;\n",
              "    }\n",
              "\n",
              "    .dataframe tbody tr th {\n",
              "        vertical-align: top;\n",
              "    }\n",
              "\n",
              "    .dataframe thead th {\n",
              "        text-align: right;\n",
              "    }\n",
              "</style>\n",
              "<table border=\"1\" class=\"dataframe\">\n",
              "  <thead>\n",
              "    <tr style=\"text-align: right;\">\n",
              "      <th></th>\n",
              "      <th>udi</th>\n",
              "      <th>air_temperature_k</th>\n",
              "      <th>process_temperature_k</th>\n",
              "      <th>rotational_speed_rpm</th>\n",
              "      <th>torque_nm</th>\n",
              "      <th>tool_wear_min</th>\n",
              "    </tr>\n",
              "  </thead>\n",
              "  <tbody>\n",
              "    <tr>\n",
              "      <th>count</th>\n",
              "      <td>6667.000000</td>\n",
              "      <td>6667.000000</td>\n",
              "      <td>6667.000000</td>\n",
              "      <td>6667.000000</td>\n",
              "      <td>6667.000000</td>\n",
              "      <td>6667.000000</td>\n",
              "    </tr>\n",
              "    <tr>\n",
              "      <th>mean</th>\n",
              "      <td>4994.589921</td>\n",
              "      <td>299.992515</td>\n",
              "      <td>309.992620</td>\n",
              "      <td>1537.419529</td>\n",
              "      <td>40.058512</td>\n",
              "      <td>108.098095</td>\n",
              "    </tr>\n",
              "    <tr>\n",
              "      <th>std</th>\n",
              "      <td>2896.125718</td>\n",
              "      <td>1.994710</td>\n",
              "      <td>1.488101</td>\n",
              "      <td>177.182908</td>\n",
              "      <td>9.950804</td>\n",
              "      <td>63.359915</td>\n",
              "    </tr>\n",
              "    <tr>\n",
              "      <th>min</th>\n",
              "      <td>1.000000</td>\n",
              "      <td>295.300000</td>\n",
              "      <td>305.700000</td>\n",
              "      <td>1168.000000</td>\n",
              "      <td>3.800000</td>\n",
              "      <td>0.000000</td>\n",
              "    </tr>\n",
              "    <tr>\n",
              "      <th>25%</th>\n",
              "      <td>2496.500000</td>\n",
              "      <td>298.300000</td>\n",
              "      <td>308.800000</td>\n",
              "      <td>1422.500000</td>\n",
              "      <td>33.200000</td>\n",
              "      <td>54.000000</td>\n",
              "    </tr>\n",
              "    <tr>\n",
              "      <th>50%</th>\n",
              "      <td>4983.000000</td>\n",
              "      <td>300.000000</td>\n",
              "      <td>310.000000</td>\n",
              "      <td>1503.000000</td>\n",
              "      <td>40.200000</td>\n",
              "      <td>108.000000</td>\n",
              "    </tr>\n",
              "    <tr>\n",
              "      <th>75%</th>\n",
              "      <td>7510.500000</td>\n",
              "      <td>301.500000</td>\n",
              "      <td>311.100000</td>\n",
              "      <td>1612.000000</td>\n",
              "      <td>46.800000</td>\n",
              "      <td>162.000000</td>\n",
              "    </tr>\n",
              "    <tr>\n",
              "      <th>max</th>\n",
              "      <td>10000.000000</td>\n",
              "      <td>304.500000</td>\n",
              "      <td>313.800000</td>\n",
              "      <td>2886.000000</td>\n",
              "      <td>76.600000</td>\n",
              "      <td>251.000000</td>\n",
              "    </tr>\n",
              "  </tbody>\n",
              "</table>\n",
              "</div>\n",
              "      <button class=\"colab-df-convert\" onclick=\"convertToInteractive('df-00fb01ae-a6fb-4556-8563-14cbb8e9464d')\"\n",
              "              title=\"Convert this dataframe to an interactive table.\"\n",
              "              style=\"display:none;\">\n",
              "        \n",
              "  <svg xmlns=\"http://www.w3.org/2000/svg\" height=\"24px\"viewBox=\"0 0 24 24\"\n",
              "       width=\"24px\">\n",
              "    <path d=\"M0 0h24v24H0V0z\" fill=\"none\"/>\n",
              "    <path d=\"M18.56 5.44l.94 2.06.94-2.06 2.06-.94-2.06-.94-.94-2.06-.94 2.06-2.06.94zm-11 1L8.5 8.5l.94-2.06 2.06-.94-2.06-.94L8.5 2.5l-.94 2.06-2.06.94zm10 10l.94 2.06.94-2.06 2.06-.94-2.06-.94-.94-2.06-.94 2.06-2.06.94z\"/><path d=\"M17.41 7.96l-1.37-1.37c-.4-.4-.92-.59-1.43-.59-.52 0-1.04.2-1.43.59L10.3 9.45l-7.72 7.72c-.78.78-.78 2.05 0 2.83L4 21.41c.39.39.9.59 1.41.59.51 0 1.02-.2 1.41-.59l7.78-7.78 2.81-2.81c.8-.78.8-2.07 0-2.86zM5.41 20L4 18.59l7.72-7.72 1.47 1.35L5.41 20z\"/>\n",
              "  </svg>\n",
              "      </button>\n",
              "      \n",
              "  <style>\n",
              "    .colab-df-container {\n",
              "      display:flex;\n",
              "      flex-wrap:wrap;\n",
              "      gap: 12px;\n",
              "    }\n",
              "\n",
              "    .colab-df-convert {\n",
              "      background-color: #E8F0FE;\n",
              "      border: none;\n",
              "      border-radius: 50%;\n",
              "      cursor: pointer;\n",
              "      display: none;\n",
              "      fill: #1967D2;\n",
              "      height: 32px;\n",
              "      padding: 0 0 0 0;\n",
              "      width: 32px;\n",
              "    }\n",
              "\n",
              "    .colab-df-convert:hover {\n",
              "      background-color: #E2EBFA;\n",
              "      box-shadow: 0px 1px 2px rgba(60, 64, 67, 0.3), 0px 1px 3px 1px rgba(60, 64, 67, 0.15);\n",
              "      fill: #174EA6;\n",
              "    }\n",
              "\n",
              "    [theme=dark] .colab-df-convert {\n",
              "      background-color: #3B4455;\n",
              "      fill: #D2E3FC;\n",
              "    }\n",
              "\n",
              "    [theme=dark] .colab-df-convert:hover {\n",
              "      background-color: #434B5C;\n",
              "      box-shadow: 0px 1px 3px 1px rgba(0, 0, 0, 0.15);\n",
              "      filter: drop-shadow(0px 1px 2px rgba(0, 0, 0, 0.3));\n",
              "      fill: #FFFFFF;\n",
              "    }\n",
              "  </style>\n",
              "\n",
              "      <script>\n",
              "        const buttonEl =\n",
              "          document.querySelector('#df-00fb01ae-a6fb-4556-8563-14cbb8e9464d button.colab-df-convert');\n",
              "        buttonEl.style.display =\n",
              "          google.colab.kernel.accessAllowed ? 'block' : 'none';\n",
              "\n",
              "        async function convertToInteractive(key) {\n",
              "          const element = document.querySelector('#df-00fb01ae-a6fb-4556-8563-14cbb8e9464d');\n",
              "          const dataTable =\n",
              "            await google.colab.kernel.invokeFunction('convertToInteractive',\n",
              "                                                     [key], {});\n",
              "          if (!dataTable) return;\n",
              "\n",
              "          const docLinkHtml = 'Like what you see? Visit the ' +\n",
              "            '<a target=\"_blank\" href=https://colab.research.google.com/notebooks/data_table.ipynb>data table notebook</a>'\n",
              "            + ' to learn more about interactive tables.';\n",
              "          element.innerHTML = '';\n",
              "          dataTable['output_type'] = 'display_data';\n",
              "          await google.colab.output.renderOutput(dataTable, element);\n",
              "          const docLink = document.createElement('div');\n",
              "          docLink.innerHTML = docLinkHtml;\n",
              "          element.appendChild(docLink);\n",
              "        }\n",
              "      </script>\n",
              "    </div>\n",
              "  </div>\n",
              "  "
            ]
          },
          "metadata": {},
          "execution_count": 180
        }
      ]
    },
    {
      "cell_type": "code",
      "source": [
        "# we can drop the udi variable, since it has no use for classification or statistical value its just an ID\n",
        "train_dataset.drop(['udi','product_id'], inplace = True,axis=1)\n",
        "# also we can check if theres nan or empty values\n",
        "print(train_dataset.isnull().any())\n",
        "print(train_dataset.isnull().sum())"
      ],
      "metadata": {
        "id": "eC6hrv-SJX48",
        "colab": {
          "base_uri": "https://localhost:8080/"
        },
        "outputId": "ab33d534-b42c-4c97-c78d-3181f960761a"
      },
      "execution_count": 181,
      "outputs": [
        {
          "output_type": "stream",
          "name": "stdout",
          "text": [
            "type                     False\n",
            "air_temperature_k        False\n",
            "process_temperature_k    False\n",
            "rotational_speed_rpm     False\n",
            "torque_nm                False\n",
            "tool_wear_min            False\n",
            "failure_type             False\n",
            "dtype: bool\n",
            "type                     0\n",
            "air_temperature_k        0\n",
            "process_temperature_k    0\n",
            "rotational_speed_rpm     0\n",
            "torque_nm                0\n",
            "tool_wear_min            0\n",
            "failure_type             0\n",
            "dtype: int64\n"
          ]
        }
      ]
    },
    {
      "cell_type": "code",
      "source": [
        "# check if the dataset has dropped\n",
        "train_dataset.head()"
      ],
      "metadata": {
        "colab": {
          "base_uri": "https://localhost:8080/",
          "height": 206
        },
        "id": "0AitzRuaI3Ta",
        "outputId": "4a62aef6-200d-4985-b91e-2c364d4ab964"
      },
      "execution_count": 182,
      "outputs": [
        {
          "output_type": "execute_result",
          "data": {
            "text/plain": [
              "  type  air_temperature_k  process_temperature_k  rotational_speed_rpm  \\\n",
              "0    M              298.1                  308.6                  1551   \n",
              "1    L              298.2                  308.7                  1408   \n",
              "2    L              298.2                  308.7                  1408   \n",
              "3    M              298.1                  308.6                  1425   \n",
              "4    L              298.1                  308.6                  1558   \n",
              "\n",
              "   torque_nm  tool_wear_min failure_type  \n",
              "0       42.8              0   No Failure  \n",
              "1       46.3              3   No Failure  \n",
              "2       40.0              9   No Failure  \n",
              "3       41.9             11   No Failure  \n",
              "4       42.4             14   No Failure  "
            ],
            "text/html": [
              "\n",
              "  <div id=\"df-db870f3b-231b-4ca0-8fbc-064156eed7e9\">\n",
              "    <div class=\"colab-df-container\">\n",
              "      <div>\n",
              "<style scoped>\n",
              "    .dataframe tbody tr th:only-of-type {\n",
              "        vertical-align: middle;\n",
              "    }\n",
              "\n",
              "    .dataframe tbody tr th {\n",
              "        vertical-align: top;\n",
              "    }\n",
              "\n",
              "    .dataframe thead th {\n",
              "        text-align: right;\n",
              "    }\n",
              "</style>\n",
              "<table border=\"1\" class=\"dataframe\">\n",
              "  <thead>\n",
              "    <tr style=\"text-align: right;\">\n",
              "      <th></th>\n",
              "      <th>type</th>\n",
              "      <th>air_temperature_k</th>\n",
              "      <th>process_temperature_k</th>\n",
              "      <th>rotational_speed_rpm</th>\n",
              "      <th>torque_nm</th>\n",
              "      <th>tool_wear_min</th>\n",
              "      <th>failure_type</th>\n",
              "    </tr>\n",
              "  </thead>\n",
              "  <tbody>\n",
              "    <tr>\n",
              "      <th>0</th>\n",
              "      <td>M</td>\n",
              "      <td>298.1</td>\n",
              "      <td>308.6</td>\n",
              "      <td>1551</td>\n",
              "      <td>42.8</td>\n",
              "      <td>0</td>\n",
              "      <td>No Failure</td>\n",
              "    </tr>\n",
              "    <tr>\n",
              "      <th>1</th>\n",
              "      <td>L</td>\n",
              "      <td>298.2</td>\n",
              "      <td>308.7</td>\n",
              "      <td>1408</td>\n",
              "      <td>46.3</td>\n",
              "      <td>3</td>\n",
              "      <td>No Failure</td>\n",
              "    </tr>\n",
              "    <tr>\n",
              "      <th>2</th>\n",
              "      <td>L</td>\n",
              "      <td>298.2</td>\n",
              "      <td>308.7</td>\n",
              "      <td>1408</td>\n",
              "      <td>40.0</td>\n",
              "      <td>9</td>\n",
              "      <td>No Failure</td>\n",
              "    </tr>\n",
              "    <tr>\n",
              "      <th>3</th>\n",
              "      <td>M</td>\n",
              "      <td>298.1</td>\n",
              "      <td>308.6</td>\n",
              "      <td>1425</td>\n",
              "      <td>41.9</td>\n",
              "      <td>11</td>\n",
              "      <td>No Failure</td>\n",
              "    </tr>\n",
              "    <tr>\n",
              "      <th>4</th>\n",
              "      <td>L</td>\n",
              "      <td>298.1</td>\n",
              "      <td>308.6</td>\n",
              "      <td>1558</td>\n",
              "      <td>42.4</td>\n",
              "      <td>14</td>\n",
              "      <td>No Failure</td>\n",
              "    </tr>\n",
              "  </tbody>\n",
              "</table>\n",
              "</div>\n",
              "      <button class=\"colab-df-convert\" onclick=\"convertToInteractive('df-db870f3b-231b-4ca0-8fbc-064156eed7e9')\"\n",
              "              title=\"Convert this dataframe to an interactive table.\"\n",
              "              style=\"display:none;\">\n",
              "        \n",
              "  <svg xmlns=\"http://www.w3.org/2000/svg\" height=\"24px\"viewBox=\"0 0 24 24\"\n",
              "       width=\"24px\">\n",
              "    <path d=\"M0 0h24v24H0V0z\" fill=\"none\"/>\n",
              "    <path d=\"M18.56 5.44l.94 2.06.94-2.06 2.06-.94-2.06-.94-.94-2.06-.94 2.06-2.06.94zm-11 1L8.5 8.5l.94-2.06 2.06-.94-2.06-.94L8.5 2.5l-.94 2.06-2.06.94zm10 10l.94 2.06.94-2.06 2.06-.94-2.06-.94-.94-2.06-.94 2.06-2.06.94z\"/><path d=\"M17.41 7.96l-1.37-1.37c-.4-.4-.92-.59-1.43-.59-.52 0-1.04.2-1.43.59L10.3 9.45l-7.72 7.72c-.78.78-.78 2.05 0 2.83L4 21.41c.39.39.9.59 1.41.59.51 0 1.02-.2 1.41-.59l7.78-7.78 2.81-2.81c.8-.78.8-2.07 0-2.86zM5.41 20L4 18.59l7.72-7.72 1.47 1.35L5.41 20z\"/>\n",
              "  </svg>\n",
              "      </button>\n",
              "      \n",
              "  <style>\n",
              "    .colab-df-container {\n",
              "      display:flex;\n",
              "      flex-wrap:wrap;\n",
              "      gap: 12px;\n",
              "    }\n",
              "\n",
              "    .colab-df-convert {\n",
              "      background-color: #E8F0FE;\n",
              "      border: none;\n",
              "      border-radius: 50%;\n",
              "      cursor: pointer;\n",
              "      display: none;\n",
              "      fill: #1967D2;\n",
              "      height: 32px;\n",
              "      padding: 0 0 0 0;\n",
              "      width: 32px;\n",
              "    }\n",
              "\n",
              "    .colab-df-convert:hover {\n",
              "      background-color: #E2EBFA;\n",
              "      box-shadow: 0px 1px 2px rgba(60, 64, 67, 0.3), 0px 1px 3px 1px rgba(60, 64, 67, 0.15);\n",
              "      fill: #174EA6;\n",
              "    }\n",
              "\n",
              "    [theme=dark] .colab-df-convert {\n",
              "      background-color: #3B4455;\n",
              "      fill: #D2E3FC;\n",
              "    }\n",
              "\n",
              "    [theme=dark] .colab-df-convert:hover {\n",
              "      background-color: #434B5C;\n",
              "      box-shadow: 0px 1px 3px 1px rgba(0, 0, 0, 0.15);\n",
              "      filter: drop-shadow(0px 1px 2px rgba(0, 0, 0, 0.3));\n",
              "      fill: #FFFFFF;\n",
              "    }\n",
              "  </style>\n",
              "\n",
              "      <script>\n",
              "        const buttonEl =\n",
              "          document.querySelector('#df-db870f3b-231b-4ca0-8fbc-064156eed7e9 button.colab-df-convert');\n",
              "        buttonEl.style.display =\n",
              "          google.colab.kernel.accessAllowed ? 'block' : 'none';\n",
              "\n",
              "        async function convertToInteractive(key) {\n",
              "          const element = document.querySelector('#df-db870f3b-231b-4ca0-8fbc-064156eed7e9');\n",
              "          const dataTable =\n",
              "            await google.colab.kernel.invokeFunction('convertToInteractive',\n",
              "                                                     [key], {});\n",
              "          if (!dataTable) return;\n",
              "\n",
              "          const docLinkHtml = 'Like what you see? Visit the ' +\n",
              "            '<a target=\"_blank\" href=https://colab.research.google.com/notebooks/data_table.ipynb>data table notebook</a>'\n",
              "            + ' to learn more about interactive tables.';\n",
              "          element.innerHTML = '';\n",
              "          dataTable['output_type'] = 'display_data';\n",
              "          await google.colab.output.renderOutput(dataTable, element);\n",
              "          const docLink = document.createElement('div');\n",
              "          docLink.innerHTML = docLinkHtml;\n",
              "          element.appendChild(docLink);\n",
              "        }\n",
              "      </script>\n",
              "    </div>\n",
              "  </div>\n",
              "  "
            ]
          },
          "metadata": {},
          "execution_count": 182
        }
      ]
    },
    {
      "cell_type": "code",
      "source": [
        "# check all the target labels\n",
        "train_dataset['failure_type'].unique()"
      ],
      "metadata": {
        "colab": {
          "base_uri": "https://localhost:8080/"
        },
        "id": "t7abdG3C-LLB",
        "outputId": "c0927afc-0f53-437f-a87a-f4dc2253b0d8"
      },
      "execution_count": 183,
      "outputs": [
        {
          "output_type": "execute_result",
          "data": {
            "text/plain": [
              "array(['No Failure', 'Power Failure', 'Tool Wear Failure',\n",
              "       'Overstrain Failure', 'Random Failures',\n",
              "       'Heat Dissipation Failure'], dtype=object)"
            ]
          },
          "metadata": {},
          "execution_count": 183
        }
      ]
    },
    {
      "cell_type": "markdown",
      "source": [
        "Plote the distribution graph for all the numerical variables"
      ],
      "metadata": {
        "id": "T0o1ALE30_fq"
      }
    },
    {
      "cell_type": "code",
      "source": [
        "for i,column in enumerate(train_dataset):\n",
        "\n",
        "  if train_dataset[column].dtype in ['int64','float64'] and column != \"udi\":\n",
        "    plt.figure(i)\n",
        "    sns.set(style='whitegrid', palette=\"deep\", font_scale=1.1, rc={\"figure.figsize\": [8, 5]})\n",
        "    sns.histplot(\n",
        "    train_dataset[column], kde=False, bins=20,\n",
        "    ).set(xlabel=column, ylabel='Count');\n"
      ],
      "metadata": {
        "colab": {
          "base_uri": "https://localhost:8080/",
          "height": 1000
        },
        "id": "PsfvzAQm_hQx",
        "outputId": "f25a3506-56ab-40e3-d52e-e93fcda1d193"
      },
      "execution_count": 184,
      "outputs": [
        {
          "output_type": "display_data",
          "data": {
            "text/plain": [
              "<Figure size 1440x360 with 1 Axes>"
            ],
            "image/png": "[encoded data removed]"
          },
          "metadata": {}
        },
        {
          "output_type": "display_data",
          "data": {
            "text/plain": [
              "<Figure size 576x360 with 1 Axes>"
            ],
            "image/png": "[encoded data removed]"
          },
          "metadata": {}
        },
        {
          "output_type": "display_data",
          "data": {
            "text/plain": [
              "<Figure size 576x360 with 1 Axes>"
            ],
            "image/png": "[encoded data removed]"
          },
          "metadata": {}
        },
        {
          "output_type": "display_data",
          "data": {
            "text/plain": [
              "<Figure size 576x360 with 1 Axes>"
            ],
            "image/png": "[encoded data removed]"
          },
          "metadata": {}
        },
        {
          "output_type": "display_data",
          "data": {
            "text/plain": [
              "<Figure size 576x360 with 1 Axes>"
            ],
            "image/png": "[encoded data removed]"
          },
          "metadata": {}
        }
      ]
    },
    {
      "cell_type": "markdown",
      "source": [
        "Rotational_Speed_rpm show a right skewd distribution. Others variables has a distribution that wont cause problems in the classification/regression phase\n"
      ],
      "metadata": {
        "id": "y5Y2fhn9EP4k"
      }
    },
    {
      "cell_type": "code",
      "source": [
        "for i,column in enumerate(train_dataset):\n",
        "  if train_dataset[column].dtype ==\"object\" :\n",
        "    plt.figure(i)\n",
        "    sns.set(style='whitegrid', palette=\"deep\", font_scale=1.1, rc={\"figure.figsize\": [20, 5]})\n",
        "    sns.countplot(x =\n",
        "    train_dataset[column]\n",
        "    ).set(xlabel=column, ylabel='Count');"
      ],
      "metadata": {
        "colab": {
          "base_uri": "https://localhost:8080/",
          "height": 667
        },
        "id": "DYlI4xepE6s5",
        "outputId": "6446d973-b1ab-4eb3-d0c5-89ad74a1ba20"
      },
      "execution_count": 185,
      "outputs": [
        {
          "output_type": "display_data",
          "data": {
            "text/plain": [
              "<Figure size 576x360 with 1 Axes>"
            ],
            "image/png": "[encoded data removed]"
          },
          "metadata": {}
        },
        {
          "output_type": "display_data",
          "data": {
            "text/plain": [
              "<Figure size 1440x360 with 1 Axes>"
            ],
            "image/png": "[encoded data removed]"
          },
          "metadata": {}
        }
      ]
    },
    {
      "cell_type": "markdown",
      "source": [
        "From ploting the data we can see a huge disbalance in data. this will affect the ML algorithm, probably will use some data augmentation method\n"
      ],
      "metadata": {
        "id": "XX2KPOUOGA64"
      }
    },
    {
      "cell_type": "code",
      "source": [
        "# transform the categorical variabels into numerical\n",
        "target_encoding= {\n",
        "    'No Failure': 0,\n",
        "     'Power Failure':1,\n",
        "      'Tool Wear Failure':2,\n",
        "       'Overstrain Failure':3,\n",
        "        'Random Failures':4,\n",
        "       'Heat Dissipation Failure': 5}\n",
        "type_encoding = {\n",
        "    'L':0,\n",
        "    'M':1,\n",
        "    'H':2}\n",
        "\n",
        "def categorial_to_numerical_simple_encoder(df,test=False):\n",
        "  if not test:\n",
        "    for key in target_encoding.keys():\n",
        "      df['failure_type'].replace(key,target_encoding[key], inplace = True)\n",
        "  for key in type_encoding.keys():\n",
        "    df['type'].replace(key,type_encoding[key], inplace = True)\n"
      ],
      "metadata": {
        "id": "70jwqAgqF-zM"
      },
      "execution_count": 186,
      "outputs": []
    },
    {
      "cell_type": "markdown",
      "source": [
        "Plote the boxplot between the failure_type and each variable"
      ],
      "metadata": {
        "id": "ufgPoy-Z1jSz"
      }
    },
    {
      "cell_type": "code",
      "source": [
        "\n",
        "categorial_to_numerical_simple_encoder(train_dataset)\n",
        "\n",
        "fig, ax = plt.subplots(2, 3, figsize=(20, 10))\n",
        "for i, col in enumerate(train_dataset.columns):\n",
        "    sns.boxplot(x=\"failure_type\", y=col, data=train_dataset, ax=ax[i//4][i%3])"
      ],
      "metadata": {
        "colab": {
          "base_uri": "https://localhost:8080/",
          "height": 617
        },
        "id": "Swk8RpsQULYa",
        "outputId": "8370c1cb-0122-4c0e-f1b2-8974d7eea2b4"
      },
      "execution_count": 187,
      "outputs": [
        {
          "output_type": "display_data",
          "data": {
            "text/plain": [
              "<Figure size 1440x720 with 6 Axes>"
            ],
            "image/png": "[encoded data removed]"
          },
          "metadata": {}
        }
      ]
    },
    {
      "cell_type": "markdown",
      "source": [
        "from the box plots, we can see that the Power Failure occurs when there's high RPM and high torque, wich are high correlated variables, the type Tool Wear Failure and Overstrain Failure happens with high tool wear but they differ from each other in the torque. the Heat Dissipation Failure occurs with at high temps. And random failures is hard to predict because it happens at any condition.\n",
        "\n",
        "From these graphics we can say that the all select variables will hold valuable information to indentify the types of failure."
      ],
      "metadata": {
        "id": "ww_EJtyuYlvE"
      }
    },
    {
      "cell_type": "markdown",
      "source": [
        "#DATA PREPARATION FOR MACHINE LEARNING"
      ],
      "metadata": {
        "id": "_UQDs1WKZ2qn"
      }
    },
    {
      "cell_type": "markdown",
      "source": [
        "The dataset is unbalanced!!!\n",
        "I'll be using SMOTENC, since this is a problem that envolves continuos and nominal variables to try to balance things out and improve the classifier performance\n",
        "I'm using SMOTENC instead of SMOTE because there's numerical and categorical values, and the normal smote could interpratate the categorial ones that are transformed to integer, and create wrong data, for example 0.3, 0.5, that does not represent any categorical data."
      ],
      "metadata": {
        "id": "CvrpHqddbGsf"
      }
    },
    {
      "cell_type": "code",
      "source": [
        "X_train = train_dataset.loc[:,train_dataset.columns != 'failure_type']\n",
        "y_train = train_dataset.loc[:,train_dataset.columns == 'failure_type']\n"
      ],
      "metadata": {
        "id": "HkBSBu9abuRd"
      },
      "execution_count": 188,
      "outputs": []
    },
    {
      "cell_type": "code",
      "source": [
        "#smote\n",
        "from imblearn.over_sampling import SMOTENC\n",
        "sm = SMOTENC([0])\n",
        "print(X_train.shape)\n",
        "print(y_train.shape)\n",
        "X_res, y_res = sm.fit_resample(X_train, y_train)\n",
        "print(X_res.shape)\n",
        "print(y_res.shape)\n"
      ],
      "metadata": {
        "id": "pTdPhqrcc9t4",
        "colab": {
          "base_uri": "https://localhost:8080/"
        },
        "outputId": "502e7d34-0300-427b-e888-69ae97307787"
      },
      "execution_count": 189,
      "outputs": [
        {
          "output_type": "stream",
          "name": "stdout",
          "text": [
            "(6667, 6)\n",
            "(6667, 1)\n",
            "(38610, 6)\n",
            "(38610, 1)\n"
          ]
        }
      ]
    },
    {
      "cell_type": "code",
      "source": [
        "from sklearn.metrics import confusion_matrix\n",
        "from sklearn.ensemble import RandomForestClassifier\n",
        "from sklearn.model_selection import train_test_split\n",
        "from sklearn.metrics import f1_score"
      ],
      "metadata": {
        "id": "KAMNUSp8eN7K"
      },
      "execution_count": 190,
      "outputs": []
    },
    {
      "cell_type": "markdown",
      "source": [
        "To evaluate the predict model, i'll be spliting the train data into train and test dataset to evaluate the model.\n",
        "\n",
        "For the classification model, i'll be using the RandomForest Classifier; Ideally, i'd build different models and choose the best one. but I'm and advocate of using RandomForest, because it yields good results, it's an ensemble of homogenous classifier and is fast."
      ],
      "metadata": {
        "id": "Gn2vaVlr3Dxz"
      }
    },
    {
      "cell_type": "code",
      "source": [
        "X_trains, X_tests, y_trains, y_tests = train_test_split(X_train,y_train,test_size=.3, random_state=42)\n",
        "y_trains = y_trains['failure_type']\n",
        "y_tests = y_tests['failure_type']\n",
        "rf = RandomForestClassifier(criterion='entropy')\n",
        "# X_res, y_res = sm.fit_resample(X_trains, y_trains)\n",
        "rf.fit(X_trains,y_trains)\n",
        "\n",
        "predicted = rf.predict(X_tests)\n",
        "\n",
        "from sklearn.metrics import confusion_matrix\n",
        "print(confusion_matrix(predicted, y_tests))\n",
        "print(rf.score(X_tests,y_tests))\n",
        "print(f1_score(y_tests,predicted,average='weighted'))\n"
      ],
      "metadata": {
        "colab": {
          "base_uri": "https://localhost:8080/"
        },
        "id": "RohWOEE0drpJ",
        "outputId": "9ca64ad7-6006-49e6-8c44-7778d0c3dcc8"
      },
      "execution_count": 191,
      "outputs": [
        {
          "output_type": "stream",
          "name": "stdout",
          "text": [
            "[[1931    6    7    3    4    9]\n",
            " [   3   11    0    1    0    0]\n",
            " [   0    0    0    0    0    0]\n",
            " [   0    2    0   12    0    0]\n",
            " [   0    0    0    0    0    0]\n",
            " [   0    0    0    0    0   12]]\n",
            "0.9825087456271864\n",
            "0.9787474642388161\n"
          ]
        }
      ]
    },
    {
      "cell_type": "markdown",
      "source": [
        "It was used the metric F1 score and accuracy, once that as the dataset has an unbalancing, the accuracy metric can have a bias for hitting all in the majority class and miss in the others. The f1 score takes into account the precision and recall and allows the analysis of the result in all classes, even with unbalance, it can be seen that the model has a high hit rate and a great performance."
      ],
      "metadata": {
        "id": "ETe-eCEJbtBK"
      }
    },
    {
      "cell_type": "code",
      "source": [
        "# build model on the full data and test on the test dataset\n",
        "!pip freeze > /content/requirements.txt"
      ],
      "metadata": {
        "id": "8y636wbCavl-"
      },
      "execution_count": 192,
      "outputs": []
    },
    {
      "cell_type": "markdown",
      "source": [
        "# Building a \"production\" model"
      ],
      "metadata": {
        "id": "F9dakuma2cCn"
      }
    },
    {
      "cell_type": "code",
      "source": [
        "#preparing the test data.\n",
        "categorial_to_numerical_simple_encoder(test_dataset,test=True)\n",
        "test_dataset.drop(['udi','product_id'], inplace = True,axis=1)\n",
        "X_test_production =  test_dataset"
      ],
      "metadata": {
        "id": "o4oKJhlX4ExQ"
      },
      "execution_count": 193,
      "outputs": []
    },
    {
      "cell_type": "markdown",
      "source": [
        "Training the production model with all the training data"
      ],
      "metadata": {
        "id": "0xu3nUjB4Yjb"
      }
    },
    {
      "cell_type": "code",
      "source": [
        "rf_production = RandomForestClassifier(criterion='entropy')\n",
        "# print(y_train)\n",
        "rf_production.fit(X_train,y_train['failure_type'])\n",
        "predicted_production = rf_production.predict(X_test_production)\n",
        "with open('/content/predicted.csv','w',encoding='utf-8') as file:\n",
        "  file.write('rowNumber, predictedValues\\n')\n",
        "  for i,value in enumerate(predicted_production):\n",
        "    file.write(f'{i},{list(target_encoding.keys())[list(target_encoding.values()).index(int(value))]}\\n')"
      ],
      "metadata": {
        "id": "2ZZBf8ZY4bCr"
      },
      "execution_count": 194,
      "outputs": []
    }
  ]
}